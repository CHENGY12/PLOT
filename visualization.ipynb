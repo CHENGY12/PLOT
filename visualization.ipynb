{
 "cells": [
  {
   "cell_type": "code",
   "execution_count": null,
   "metadata": {},
   "outputs": [],
   "source": [
    "import torch\n",
    "import numpy as np\n",
    "import matplotlib.pyplot as plt\n",
    "import cv2\n",
    "from pathlib import Path\n",
    "from torchvision import transforms\n",
    "\n",
    "# define normalize8 function\n",
    "def normalize8(I):\n",
    "    mn = np.min(I)\n",
    "    mx = np.max(I)\n",
    "    mx -= mn\n",
    "    mx = 255 / mx\n",
    "    ret = np.round((I - mn) * mx).astype(np.uint32)\n",
    "    return ret\n",
    "\n",
    "inv_normalize = transforms.Normalize(\n",
    "    mean=[-0.485/0.229, -0.456/0.224, -0.406/0.255],\n",
    "    std=[1/0.229, 1/0.224, 1/0.255]\n",
    ")\n",
    "\n",
    "#load data\n",
    "transport_plans = torch.load('path_of_plan') # transport_plans   shape=[N,d,d], e.g. [4,7,7] \n",
    "original_image = torch.load('path_of_image') # original_image    shape=[1,3,224,224]\n",
    "name = 'name_of_class'  # name     class name\n",
    "\n",
    "#normlize\n",
    "plans = transport_plans.detach().cpu().numpy().astype(np.float32)\n",
    "tmp_org =  inv_normalize(original_image[0]).permute(1,2,0) # if the data is from dataloader, please transfer it back\n",
    "tmp_org = cv2.cvtColor(np.uint8(tmp_org*255),cv2.COLOR_BGR2RGB)\n",
    "\n",
    "for j in range(plans.shape[0]):\n",
    "    # obtain path for save\n",
    "    p = Path(f\"results/{name}/{j}\")\n",
    "    p.mkdir(parents=True,exist_ok=True)\n",
    "    \n",
    "    # obtain the heatmaps\n",
    "    tmp = plans[j,:,:]\n",
    "    tmp = np.uint8(255*(tmp-tmp.min())/(tmp.max()-tmp.min()))\n",
    "    tmp = cv2.resize(tmp, (224,224))\n",
    "    \n",
    "    # visulization \n",
    "    viz_atten = cv2.applyColorMap(tmp, cv2.COLORMAP_JET)\n",
    "    viz_atten_224 = cv2.resize(viz_atten, (224, 224), interpolation=cv2.INTER_CUBIC) \n",
    "\n",
    "    # combine with original image\n",
    "    output = 0.4*viz_atten +tmp_org*0.6\n",
    "    \n",
    "    # save for \n",
    "    full_path = str((p/f\"visualization.jpg\").absolute())\n",
    "    cv2.imwrite(full_path,output)"
   ]
  },
  {
   "cell_type": "code",
   "execution_count": null,
   "metadata": {},
   "outputs": [],
   "source": [
    "tmp_org.shape\n"
   ]
  }
 ],
 "metadata": {
  "kernelspec": {
   "display_name": "CoOp",
   "language": "python",
   "name": "python3"
  },
  "language_info": {
   "codemirror_mode": {
    "name": "ipython",
    "version": 3
   },
   "file_extension": ".py",
   "mimetype": "text/x-python",
   "name": "python",
   "nbconvert_exporter": "python",
   "pygments_lexer": "ipython3",
   "version": "3.8.13"
  },
  "orig_nbformat": 4
 },
 "nbformat": 4,
 "nbformat_minor": 2
}
